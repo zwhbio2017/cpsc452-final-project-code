{
 "cells": [
  {
   "attachments": {},
   "cell_type": "markdown",
   "id": "3b8695e0",
   "metadata": {},
   "source": [
    "# Run GCN on input data"
   ]
  },
  {
   "cell_type": "code",
   "execution_count": null,
   "id": "1f43fe19",
   "metadata": {},
   "outputs": [],
   "source": [
    "import torch\n",
    "from torch_geometric.data import Data\n",
    "import torch.nn.functional as F\n",
    "import torch.nn as nn\n",
    "from torch_geometric.nn import GCNConv\n",
    "from torch_geometric.utils import add_self_loops, degree\n",
    "import pandas as pd\n",
    "import numpy as np\n",
    "from scipy.io import mmread\n",
    "import networkx as nx\n",
    "import torch_geometric\n",
    "import matplotlib\n",
    "import matplotlib.pyplot as plt\n",
    "import umap\n",
    "from sklearn.preprocessing import StandardScaler"
   ]
  },
  {
   "attachments": {},
   "cell_type": "markdown",
   "id": "13fe3741",
   "metadata": {},
   "source": [
    "## Create initial graph"
   ]
  },
  {
   "cell_type": "code",
   "execution_count": null,
   "id": "e1677ef0",
   "metadata": {},
   "outputs": [],
   "source": [
    "df_bed = pd.read_csv('../output/EB1/test_gene_TF.bed', sep='\\t', header=None)\n",
    "df_bed.columns = ['chr_motif', 'start_motif', 'end_motif', 'motif_name', 'num_motif', 'strand_motif', 'gene_motif', 'chr_peak', 'start_peak', 'end_peak', 'gene_name', 'num_peak', 'strand_peak', 'chr_TSS', 'start_TSS', 'end_TSS', 'score']"
   ]
  },
  {
   "cell_type": "code",
   "execution_count": null,
   "id": "55a70315",
   "metadata": {},
   "outputs": [],
   "source": [
    "df_bed.iloc[0:10, ]"
   ]
  },
  {
   "cell_type": "code",
   "execution_count": null,
   "id": "32044700",
   "metadata": {},
   "outputs": [],
   "source": [
    "motif_list = list(set(df_bed['motif_name']))\n",
    "gene_list = list(set(df_bed['gene_name']))"
   ]
  },
  {
   "cell_type": "code",
   "execution_count": null,
   "id": "fbac1fa0",
   "metadata": {},
   "outputs": [],
   "source": [
    "motif_list = [motif for motif in motif_list if motif.split('(')[0].split(':')[0].upper() in gene_list]\n",
    "TF_list = [motif.split('(')[0].split(':')[0].upper() for motif in motif_list]\n",
    "d_TF = dict(zip(motif_list, TF_list))"
   ]
  },
  {
   "cell_type": "code",
   "execution_count": null,
   "id": "e23eb364",
   "metadata": {},
   "outputs": [],
   "source": [
    "# Only keeping TFs that are within the input gene list\n",
    "\n",
    "df_bed = df_bed[df_bed['motif_name'].isin(motif_list)]\n",
    "df_bed['TF_name'] = df_bed['motif_name'].map(d_TF)"
   ]
  },
  {
   "cell_type": "code",
   "execution_count": null,
   "id": "7bb71b60",
   "metadata": {},
   "outputs": [],
   "source": [
    "df_bed.iloc[0:10, ]"
   ]
  },
  {
   "cell_type": "code",
   "execution_count": null,
   "id": "ef00ce1f",
   "metadata": {},
   "outputs": [],
   "source": [
    "mat = mmread('../data/EB1_count.mtx')\n",
    "mat_np = np.array(mat.todense())"
   ]
  },
  {
   "cell_type": "code",
   "execution_count": null,
   "id": "e8116d68",
   "metadata": {},
   "outputs": [],
   "source": [
    "df_obs = pd.read_csv('../data/EB1_obs.txt', header=0, sep='\\t')\n",
    "df_var = pd.read_csv('../data/EB1_var.txt', header=0, sep='\\t')"
   ]
  },
  {
   "cell_type": "code",
   "execution_count": null,
   "id": "7f6a6ef2",
   "metadata": {},
   "outputs": [],
   "source": [
    "# Ensure that every gene in the graph can get the initial feature from scRNA-seq\n",
    "\n",
    "df_bed = df_bed[(df_bed['TF_name'].isin(df_var['gene_short_name'])) & (df_bed['gene_name'].isin(df_var['gene_short_name']))]"
   ]
  },
  {
   "cell_type": "code",
   "execution_count": null,
   "id": "b6977dc6",
   "metadata": {
    "scrolled": true
   },
   "outputs": [],
   "source": [
    "# Get links between TFs and genes, aggregate them and take the average\n",
    "\n",
    "df_link = df_bed[['TF_name', 'gene_name', 'score']]\n",
    "df_link = df_link[df_link['score'] != np.inf]\n",
    "df_network = df_link.groupby(['TF_name', 'gene_name'], as_index=False).agg({'score': 'mean'})\n",
    "TF_list = df_network['TF_name'].unique()\n",
    "gene_list = df_network['gene_name'].unique()"
   ]
  },
  {
   "cell_type": "code",
   "execution_count": null,
   "id": "e3b4c61a",
   "metadata": {},
   "outputs": [],
   "source": [
    "adj_matrix = np.zeros((len(gene_list), len(gene_list)))\n",
    "edge_weights = np.zeros((len(gene_list), len(gene_list)))"
   ]
  },
  {
   "cell_type": "code",
   "execution_count": null,
   "id": "aba2da19",
   "metadata": {},
   "outputs": [],
   "source": [
    "# Create adjacency matrix and edge weight matrix\n",
    "\n",
    "for i, row in enumerate(df_network.iterrows()):\n",
    "    TF, gene, score = row[1]\n",
    "    idx = np.argwhere(gene_list == TF)\n",
    "    idy = np.argwhere(gene_list == gene)\n",
    "    adj_matrix[idx, idy] = 1\n",
    "    edge_weights[idx, idy] = score"
   ]
  },
  {
   "cell_type": "code",
   "execution_count": null,
   "id": "7c747ac7",
   "metadata": {},
   "outputs": [],
   "source": [
    "gene_exp_list = np.array(df_var['gene_short_name'])\n",
    "gene_exp_array = np.zeros((len(gene_list), len(df_obs)))"
   ]
  },
  {
   "cell_type": "code",
   "execution_count": null,
   "id": "1d9d6799",
   "metadata": {},
   "outputs": [],
   "source": [
    "# Create node feature matrix\n",
    "\n",
    "for i, gene in enumerate(gene_list):\n",
    "    idx = np.argwhere(gene_exp_list == gene)\n",
    "    gene_exp_array[i] = mat_np[idx]"
   ]
  },
  {
   "cell_type": "code",
   "execution_count": null,
   "id": "7d3a188f",
   "metadata": {},
   "outputs": [],
   "source": [
    "adj_tensor = torch.from_numpy(adj_matrix)\n",
    "trait_tensor = torch.from_numpy(gene_exp_array)\n",
    "edge_weight_tensor = torch.from_numpy(edge_weights)"
   ]
  },
  {
   "cell_type": "code",
   "execution_count": null,
   "id": "65b58781",
   "metadata": {},
   "outputs": [],
   "source": [
    "# Create torch_geometric graph dataset\n",
    "\n",
    "edge_index = adj_tensor.nonzero().t()\n",
    "data = Data(x=trait_tensor, edge_index=edge_index, edge_attr=edge_weight_tensor[edge_index[0], edge_index[1]])"
   ]
  },
  {
   "attachments": {},
   "cell_type": "markdown",
   "id": "7733e733",
   "metadata": {},
   "source": [
    "## Run GCN training and test"
   ]
  },
  {
   "cell_type": "code",
   "execution_count": null,
   "id": "4ac72ee5",
   "metadata": {},
   "outputs": [],
   "source": [
    "# Implementation of Edge regression\n",
    "\n",
    "class EdgeRegression(torch.nn.Module):\n",
    "    def __init__(self, num_node_features, hidden_features, out_features):\n",
    "        super(EdgeRegression, self).__init__()\n",
    "        self.conv1 = GCNConv(num_node_features, hidden_features)\n",
    "        self.conv2 = GCNConv(hidden_features, hidden_features)\n",
    "        self.conv = GCNConv(hidden_features, out_features)\n",
    "\n",
    "    def encode(self, x, edge_index):\n",
    "        x = self.conv1(x, edge_index)\n",
    "        x = F.relu(x)\n",
    "        x = F.dropout(x, training=self.training)\n",
    "        x = self.conv2(x, edge_index)\n",
    "        x = F.relu(x)\n",
    "        x = F.dropout(x, training=self.training)\n",
    "        x = self.conv(x, edge_index)\n",
    "        \n",
    "        return x\n",
    "    \n",
    "    def decode(self, x, edge_index):\n",
    "        src, dst = edge_index\n",
    "        score = (x[src] * x[dst]).sum(dim=-1)\n",
    "        \n",
    "        return score"
   ]
  },
  {
   "cell_type": "code",
   "execution_count": null,
   "id": "d086cf5a",
   "metadata": {},
   "outputs": [],
   "source": [
    "model = EdgeRegression(num_node_features=10000, hidden_features=200, out_features=10)\n",
    "optimizer = torch.optim.Adam(model.parameters(), lr=1e-4)\n",
    "criterion = torch.nn.MSELoss()"
   ]
  },
  {
   "cell_type": "code",
   "execution_count": null,
   "id": "bd80b1f0",
   "metadata": {},
   "outputs": [],
   "source": [
    "def train(model, optimizer, data, criterion):\n",
    "    model.train()\n",
    "    optimizer.zero_grad()\n",
    "    out = model.encode(data.x.float(), data.edge_index)\n",
    "    score = model.decode(out, data.edge_index)\n",
    "    loss = criterion(score, data.edge_attr.float())\n",
    "    loss.backward()\n",
    "    optimizer.step()\n",
    "    return loss.item()\n",
    "\n",
    "def test(model, data, criterion):\n",
    "    model.eval()\n",
    "    with torch.no_grad():\n",
    "        out = model.encode(data.x.float(), data.edge_index)\n",
    "        score = model.decode(out, data.edge_index).view(-1)\n",
    "        loss = criterion(score, data.edge_attr.float())\n",
    "    return loss.item()"
   ]
  },
  {
   "cell_type": "code",
   "execution_count": null,
   "id": "cf1e93c7",
   "metadata": {},
   "outputs": [],
   "source": [
    "torch.manual_seed(1234)\n",
    "for epoch in range(50):\n",
    "    loss = train(model, optimizer, data, criterion)\n",
    "    print(f'Epoch {epoch + 1}, Loss: {loss:.4f}')\n",
    "    if epoch % 10 == 9:\n",
    "        loss = test(model, data, criterion)\n",
    "        print(f'Test Loss: {loss:.4f}')"
   ]
  },
  {
   "cell_type": "code",
   "execution_count": null,
   "id": "d2d6e92f",
   "metadata": {},
   "outputs": [],
   "source": [
    "model.eval()\n",
    "with torch.no_grad():\n",
    "    out = model.encode(data.x.float(), data.edge_index)\n",
    "    score = model.decode(out, data.edge_index).view(-1)"
   ]
  },
  {
   "attachments": {},
   "cell_type": "markdown",
   "id": "4cec812a",
   "metadata": {},
   "source": [
    "## Visualization\n",
    "\n",
    "### Visualization of graph"
   ]
  },
  {
   "cell_type": "code",
   "execution_count": null,
   "id": "ed84fc03",
   "metadata": {
    "scrolled": true
   },
   "outputs": [],
   "source": [
    "g = torch_geometric.utils.to_networkx(data, to_undirected=True)"
   ]
  },
  {
   "cell_type": "code",
   "execution_count": null,
   "id": "b29f6fe8",
   "metadata": {},
   "outputs": [],
   "source": [
    "fig = plt.figure()\n",
    "nx.draw(g, nodelist=np.unique(np.array(g.edges).reshape(1, -1)), node_size=10, ax=fig.add_subplot())\n",
    "fig.savefig(\"../output/EB1/test_graph.png\")"
   ]
  },
  {
   "attachments": {},
   "cell_type": "markdown",
   "id": "21df7d26",
   "metadata": {},
   "source": [
    "### Visualization of UMAP projection of gene embedding"
   ]
  },
  {
   "cell_type": "code",
   "execution_count": null,
   "id": "afd53efa",
   "metadata": {},
   "outputs": [],
   "source": [
    "reducer = umap.UMAP()\n",
    "scaled_data = StandardScaler().fit_transform(out.numpy())"
   ]
  },
  {
   "cell_type": "code",
   "execution_count": null,
   "id": "b9ed1969",
   "metadata": {},
   "outputs": [],
   "source": [
    "embedding = reducer.fit_transform(scaled_data)"
   ]
  },
  {
   "cell_type": "code",
   "execution_count": null,
   "id": "2af7d97f",
   "metadata": {},
   "outputs": [],
   "source": [
    "TF_gene = [1 if x in np.unique(np.array(g.edges).reshape(2, -1)[0]) else 2 for x in range(embedding.shape[0])]"
   ]
  },
  {
   "cell_type": "code",
   "execution_count": null,
   "id": "8890f30f",
   "metadata": {
    "scrolled": true
   },
   "outputs": [],
   "source": [
    "fig = plt.figure()\n",
    "plt.scatter(embedding[:, 0], embedding[:, 1], c=TF_gene)\n",
    "plt.gca().set_aspect('equal', 'datalim')\n",
    "plt.title('UMAP projection of embedding of genes', fontsize=10)\n",
    "plt.legend(labels=['TF', 'gene'])\n",
    "fig.savefig(\"../output/EB1/test_embedding.png\")"
   ]
  },
  {
   "cell_type": "code",
   "execution_count": null,
   "id": "51cb83df",
   "metadata": {},
   "outputs": [],
   "source": [
    "model = EdgeRegression(num_node_features=10000, hidden_features=200, out_features=10)\n",
    "optimizer = torch.optim.Adam(model.parameters(), lr=1e-4)\n",
    "criterion = torch.nn.MSELoss()"
   ]
  },
  {
   "attachments": {},
   "cell_type": "markdown",
   "id": "4e1463ea",
   "metadata": {},
   "source": [
    "### Visualize the training process"
   ]
  },
  {
   "cell_type": "code",
   "execution_count": null,
   "id": "b21458e1",
   "metadata": {},
   "outputs": [],
   "source": [
    "training_loss = []\n",
    "test_loss = []\n",
    "\n",
    "torch.manual_seed(1234)\n",
    "for epoch in range(50):\n",
    "    loss = train(model, optimizer, data, criterion)\n",
    "    training_loss.append(loss)\n",
    "    if epoch % 10 == 9:\n",
    "        loss = test(model, data, criterion)\n",
    "        test_loss.append(loss)"
   ]
  },
  {
   "cell_type": "code",
   "execution_count": null,
   "id": "5f99ea0f",
   "metadata": {},
   "outputs": [],
   "source": [
    "fig = plt.figure()\n",
    "plt.plot(np.arange(1, 51), training_loss)\n",
    "plt.scatter(np.arange(10, 60, 10), test_loss, c='orange')\n",
    "plt.title('Training and test loss during training')\n",
    "plt.legend(labels=['training', 'test'])\n",
    "fig.savefig(\"../output/EB1/test_loss.png\")"
   ]
  },
  {
   "cell_type": "code",
   "execution_count": null,
   "id": "2beec900",
   "metadata": {},
   "outputs": [],
   "source": []
  }
 ],
 "metadata": {
  "kernelspec": {
   "display_name": "Python 3 (ipykernel)",
   "language": "python",
   "name": "python3"
  },
  "language_info": {
   "codemirror_mode": {
    "name": "ipython",
    "version": 3
   },
   "file_extension": ".py",
   "mimetype": "text/x-python",
   "name": "python",
   "nbconvert_exporter": "python",
   "pygments_lexer": "ipython3",
   "version": "3.8.15"
  }
 },
 "nbformat": 4,
 "nbformat_minor": 5
}
